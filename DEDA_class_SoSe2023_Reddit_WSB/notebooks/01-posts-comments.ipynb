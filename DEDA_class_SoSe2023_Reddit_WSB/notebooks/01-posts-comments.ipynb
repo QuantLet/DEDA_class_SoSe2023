{
 "cells": [
  {
   "cell_type": "code",
   "execution_count": 35,
   "metadata": {
    "collapsed": true
   },
   "outputs": [],
   "source": [
    "import pandas as pd\n",
    "import praw\n",
    "import yaml\n",
    "from praw.models import MoreComments\n",
    "from yaml.loader import SafeLoader\n",
    "\n",
    "with open('../config-personal.yml') as f:\n",
    "    config = yaml.load(f, Loader=SafeLoader)\n",
    "\n",
    "reddit = praw.Reddit(\n",
    "    client_id=config['reddit']['client_id'],\n",
    "    client_secret=config['reddit']['secret'],\n",
    "    user_agent=f\"testscript by u/{config['reddit']['user_name']}\",\n",
    ")\n",
    "\n",
    "df = pd.read_csv('../data/wallstreetbets.zip')\n"
   ]
  },
  {
   "cell_type": "code",
   "execution_count": 12,
   "outputs": [
    {
     "name": "stdout",
     "output_type": "stream",
     "text": [
      "<class 'pandas.core.frame.DataFrame'>\n",
      "RangeIndex: 53187 entries, 0 to 53186\n",
      "Data columns (total 8 columns):\n",
      " #   Column     Non-Null Count  Dtype  \n",
      "---  ------     --------------  -----  \n",
      " 0   title      53187 non-null  object \n",
      " 1   score      53187 non-null  int64  \n",
      " 2   id         53187 non-null  object \n",
      " 3   url        53187 non-null  object \n",
      " 4   comms_num  53187 non-null  int64  \n",
      " 5   created    53187 non-null  float64\n",
      " 6   body       24738 non-null  object \n",
      " 7   timestamp  53187 non-null  object \n",
      "dtypes: float64(1), int64(2), object(5)\n",
      "memory usage: 3.2+ MB\n"
     ]
    }
   ],
   "source": [
    "df.info( )"
   ],
   "metadata": {
    "collapsed": false
   }
  },
  {
   "cell_type": "code",
   "execution_count": 19,
   "outputs": [
    {
     "data": {
      "text/plain": "title        It's not about the money, it's about sending a...\nscore                                                       55\nid                                                      l6ulcx\nurl                            https://v.redd.it/6j75regs72e61\ncomms_num                                                    6\ncreated                                           1611862661.0\nbody                                                       NaN\ntimestamp                                  2021-01-28 21:37:41\nName: 0, dtype: object"
     },
     "execution_count": 19,
     "metadata": {},
     "output_type": "execute_result"
    }
   ],
   "source": [
    "first_row = df.head(1).iloc[0,:]\n",
    "first_row"
   ],
   "metadata": {
    "collapsed": false
   }
  },
  {
   "cell_type": "code",
   "execution_count": 20,
   "outputs": [],
   "source": [
    "submission = reddit.submission(first_row.id)"
   ],
   "metadata": {
    "collapsed": false
   }
  },
  {
   "cell_type": "code",
   "execution_count": 26,
   "outputs": [],
   "source": [
    "comment_ls = []\n",
    "for top_level_comment in submission.comments:\n",
    "    if isinstance(top_level_comment, MoreComments):\n",
    "        continue\n",
    "    comment_ls.append(top_level_comment.body)"
   ],
   "metadata": {
    "collapsed": false
   }
  },
  {
   "cell_type": "code",
   "execution_count": 28,
   "outputs": [
    {
     "data": {
      "text/plain": "['yeah just hope everyone deletes their 420 limits. 1000 IS NOT A JOKE',\n 'The video is pretty but I cant fucking read',\n 'It’s not about the money, it’s about a shitload of money.',\n \"$10000 here we come boys and gals. Let's drain their bank accounts like they've done to us all these years.\",\n '[deleted]']"
     },
     "execution_count": 28,
     "metadata": {},
     "output_type": "execute_result"
    }
   ],
   "source": [
    "comment_ls[0:5]"
   ],
   "metadata": {
    "collapsed": false
   }
  },
  {
   "cell_type": "code",
   "execution_count": 36,
   "outputs": [],
   "source": [
    "comment_dict = {'id_col': [], 'comments': [], 'score':[]}\n",
    "id_ls = df.loc[:,'id'].tolist()\n",
    "id_test = id_ls[0:4]\n",
    "\n",
    "for post_id in id_test:\n",
    "    comment_ls = []\n",
    "    score_ls = []\n",
    "    post = reddit.submission(post_id)\n",
    "    for top_level_comment in post.comments:\n",
    "        if isinstance(top_level_comment, MoreComments):\n",
    "            continue\n",
    "        comment_ls.append(top_level_comment.body)\n",
    "        score_ls.append(top_level_comment.score)\n",
    "\n",
    "    comment_dict['id_col'].extend([post_id]*len(comment_ls))\n",
    "    comment_dict['comments'].extend(comment_ls)\n",
    "    comment_dict['score'].extend(score_ls)"
   ],
   "metadata": {
    "collapsed": false
   }
  },
  {
   "cell_type": "code",
   "execution_count": 41,
   "outputs": [
    {
     "data": {
      "text/plain": "53187"
     },
     "execution_count": 41,
     "metadata": {},
     "output_type": "execute_result"
    }
   ],
   "source": [
    "len(id_ls)"
   ],
   "metadata": {
    "collapsed": false
   }
  },
  {
   "cell_type": "code",
   "execution_count": 2,
   "outputs": [
    {
     "data": {
      "text/plain": "0"
     },
     "execution_count": 2,
     "metadata": {},
     "output_type": "execute_result"
    }
   ],
   "source": [],
   "metadata": {
    "collapsed": false
   }
  },
  {
   "cell_type": "markdown",
   "source": [
    "It works! Now do it for all comments."
   ],
   "metadata": {
    "collapsed": false
   }
  }
 ],
 "metadata": {
  "kernelspec": {
   "display_name": "Python 3",
   "language": "python",
   "name": "python3"
  },
  "language_info": {
   "codemirror_mode": {
    "name": "ipython",
    "version": 2
   },
   "file_extension": ".py",
   "mimetype": "text/x-python",
   "name": "python",
   "nbconvert_exporter": "python",
   "pygments_lexer": "ipython2",
   "version": "2.7.6"
  }
 },
 "nbformat": 4,
 "nbformat_minor": 0
}
