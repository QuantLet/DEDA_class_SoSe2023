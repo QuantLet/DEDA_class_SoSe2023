{
 "cells": [
  {
   "cell_type": "markdown",
   "source": [
    "# First exploration of the Reddit API"
   ],
   "metadata": {
    "collapsed": false
   }
  },
  {
   "cell_type": "markdown",
   "source": [
    "There is already a Reddit API parser in Python called [PRAW](https://praw.readthedocs.io/en/latest/). The requirements to use it are outlined [here](https://praw.readthedocs.io/en/latest/getting_started/quick_start.html).\n",
    "\n",
    "For our use case, we only need read-only access, which requires getting a client id, a client secret and a user agent. They are all hidden from the repo but anyone interested could set up theirs with a file like *config-personal.yml* and use reproduce this notebook."
   ],
   "metadata": {
    "collapsed": false
   }
  },
  {
   "cell_type": "code",
   "execution_count": 1,
   "metadata": {
    "collapsed": true
   },
   "outputs": [],
   "source": [
    "import pandas as pd\n",
    "import praw\n",
    "from pmaw import PushshiftAPI\n",
    "import yaml\n",
    "import pendulum\n",
    "from yaml.loader import SafeLoader\n",
    "from praw.models import MoreComments\n",
    "\n",
    "with open('../config-personal.yml') as f:\n",
    "    config = yaml.load(f, Loader=SafeLoader)\n",
    "\n",
    "reddit = praw.Reddit(\n",
    "    client_id=config['reddit']['client_id'],\n",
    "    client_secret=config['reddit']['secret'],\n",
    "    user_agent=f\"testscript by u/{config['reddit']['user_name']}\",\n",
    ")\n",
    "\n",
    "subreddit = reddit.subreddit(\"wallstreetbets\")"
   ]
  },
  {
   "cell_type": "code",
   "execution_count": 31,
   "outputs": [
    {
     "name": "stderr",
     "output_type": "stream",
     "text": [
      "Not all PushShift shards are active. Query results may be incomplete.\n"
     ]
    }
   ],
   "source": [
    "api = PushshiftAPI(praw=reddit)\n",
    "gen = api.search_comments(since=int(pendulum.from_format('2021-01-30', 'YYYY-MM-DD').timestamp()),\n",
    "                             until=int(pendulum.from_format('2021-01-30', 'YYYY-MM-DD').timestamp()),\n",
    "                             subreddit='wallstreetbets', size=100)"
   ],
   "metadata": {
    "collapsed": false
   }
  },
  {
   "cell_type": "code",
   "execution_count": 2,
   "outputs": [
    {
     "name": "stdout",
     "output_type": "stream",
     "text": [
      "Daily Discussion Thread for May 22, 2023\n",
      "101\n",
      "13omies\n",
      "https://www.reddit.com/r/wallstreetbets/comments/13omies/daily_discussion_thread_for_may_22_2023/\n",
      "This is the last time I try to help you all, after this I'm just here LOL with you Apes\n",
      "3679\n",
      "13oavvz\n",
      "https://www.reddit.com/r/wallstreetbets/comments/13oavvz/this_is_the_last_time_i_try_to_help_you_all_after/\n",
      "White House says if the US defaults on its debt, the stock market could fall 45%\n",
      "7350\n",
      "13op7nn\n",
      "https://www.cnbc.com/2023/05/21/debt-ceiling-yellen-says-hard-choices-will-need-to-be-made-if-debt-ceiling-is-not-raised.html\n",
      "13 years ago, this man paid 10,000 Bitcoin for two Papa John's pizzas. Today, 10,000 BTC is worth $268 million.\n",
      "1030\n",
      "13oomia\n",
      "https://v.redd.it/9p6ieo82fd1b1\n",
      "EU reportedly fines Meta $1.3B over user data transfers to US\n",
      "779\n",
      "13ol2ln\n",
      "http://www.breakingthenews.net/news/details/60039458\n",
      "Morgan Stanley sees signals of panic buying in S&P 500, ongoing rally 'a head fake' By Investing.com\n",
      "120\n",
      "13oqupw\n",
      "https://www.investing.com/news/stock-market-news/morgan-stanley-sees-signals-of-panic-buying-in-sp-500-ongoing-rally-a-head-fake-432SI-3087716\n",
      "Hell is coming\n",
      "5260\n",
      "13nzrh1\n",
      "https://i.redd.it/mio0t4xp891b1.jpg\n",
      "It's that easy\n",
      "6944\n",
      "13nxf3h\n",
      "https://v.redd.it/cl96brxj971b1\n",
      "China bans US chipmaker Micron from vital infrastructure projects\n",
      "122\n",
      "13oot6i\n",
      "https://www.theguardian.com/business/2023/may/22/china-bans-us-micron-technology\n",
      "Came in 3 hours late I know what play I will do for Monday\n",
      "243\n",
      "13ojauz\n",
      "https://i.redd.it/4hoqfov2id1b1.jpg\n"
     ]
    }
   ],
   "source": [
    "for submission in subreddit.hot(limit=10):\n",
    "    print(submission.title)\n",
    "    # Output: the submission's title\n",
    "    print(submission.score)\n",
    "    # Output: the submission's score\n",
    "    print(submission.id)\n",
    "    # Output: the submission's ID\n",
    "    print(submission.url)"
   ],
   "metadata": {
    "collapsed": false
   }
  },
  {
   "cell_type": "code",
   "execution_count": 7,
   "outputs": [
    {
     "name": "stdout",
     "output_type": "stream",
     "text": [
      "What Are Your Moves Tomorrow, May 15, 2023\n",
      "Loud and Clear 😬\n",
      "I will integrate AI into my personal life\n",
      "if a company says ai it goes 🚀🚀🚀🚀🚀🚀🚀\n",
      "Debt Ceiling with Rising Rates, No Problem ! 🎪\n",
      "Risk management king. Catch me behind the Wendys.\n",
      "Gang gang.\n",
      "Genuine question, what do all of you do for work that you’re fine with having $5k weekly loss porn\n",
      "spotted in the wild\n",
      "I’m in a toxic relationship\n"
     ]
    }
   ],
   "source": [
    "post_title = []\n",
    "post_comments = []\n",
    "\n",
    "for submission in subreddit.hot(limit=10):\n",
    "    print(submission.title)\n",
    "    submission.comments.replace_more(limit=None)\n",
    "    for comment in submission.comments.list():\n",
    "         post_title.append(submission.title)\n",
    "         post_comments.append(comment.body)"
   ],
   "metadata": {
    "collapsed": false
   }
  },
  {
   "cell_type": "code",
   "execution_count": 8,
   "outputs": [],
   "source": [
    "df = pd.DataFrame({'title': post_title, 'comments': post_comments})"
   ],
   "metadata": {
    "collapsed": false
   }
  },
  {
   "cell_type": "markdown",
   "source": [
    "Due to new changes on Reddit API terms of services on May 1st 2023, [it is no longer available to search posts or comments by date](https://old.reddit.com/r/RedditAPIAdvocacy/comments/13esznz/reddit_has_cut_off_historical_data_access_help_us/). Hence, in order to cut for time and convenience, it is more feasible to use an already sourced dataframe for our research topic."
   ],
   "metadata": {
    "collapsed": false
   }
  }
 ],
 "metadata": {
  "kernelspec": {
   "display_name": "Python 3",
   "language": "python",
   "name": "python3"
  },
  "language_info": {
   "codemirror_mode": {
    "name": "ipython",
    "version": 2
   },
   "file_extension": ".py",
   "mimetype": "text/x-python",
   "name": "python",
   "nbconvert_exporter": "python",
   "pygments_lexer": "ipython2",
   "version": "2.7.6"
  }
 },
 "nbformat": 4,
 "nbformat_minor": 0
}
