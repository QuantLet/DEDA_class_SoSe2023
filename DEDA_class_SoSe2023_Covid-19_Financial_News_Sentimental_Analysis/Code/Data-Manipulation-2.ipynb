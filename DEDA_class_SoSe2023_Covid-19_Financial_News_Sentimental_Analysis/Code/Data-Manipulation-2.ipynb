{
 "cells": [
  {
   "cell_type": "markdown",
   "id": "5b11756b-dde4-439b-85c7-2bc03f2e0f34",
   "metadata": {
    "tags": []
   },
   "source": [
    "# Importe"
   ]
  },
  {
   "cell_type": "code",
   "execution_count": null,
   "id": "ae3043ac-9012-4297-a761-4903cfec7e67",
   "metadata": {},
   "outputs": [],
   "source": [
    "# for handling data\n",
    "import pandas as pd \n",
    "# for downloading data on local computer\n",
    "from google.colab import files \n",
    "# for changing the time steps of the data frames\n",
    "from datetime import datetime"
   ]
  },
  {
   "cell_type": "markdown",
   "id": "90a42271-3320-4cbc-8e6e-05bbc1858b29",
   "metadata": {},
   "source": [
    "# Reindexing"
   ]
  },
  {
   "cell_type": "code",
   "execution_count": null,
   "id": "6e8324a6-5933-4e6c-be9a-d56e7882599b",
   "metadata": {},
   "outputs": [],
   "source": [
    "def ind(df):\n",
    "    length = len(df)\n",
    "    df_range = range(length)\n",
    "    return df_range"
   ]
  },
  {
   "cell_type": "markdown",
   "id": "067e1501-cdeb-4d79-aad7-f16b3963f606",
   "metadata": {
    "tags": []
   },
   "source": [
    "# Getting data from Github"
   ]
  },
  {
   "cell_type": "markdown",
   "id": "57bd73c4-a06e-498c-969d-c3a7b55998da",
   "metadata": {
    "jp-MarkdownHeadingCollapsed": true,
    "tags": []
   },
   "source": [
    "## Importing data from Github"
   ]
  },
  {
   "cell_type": "code",
   "execution_count": null,
   "id": "2cdb7f16-ba88-4ca3-bf99-eb058b13758d",
   "metadata": {},
   "outputs": [],
   "source": [
    "# CNBC\n",
    "!wget https://github.com/Ben-physics-dotcom/DEDA-SoSe2023-stock-market-and-financial-news-sentimental-analysis-during-covid-19/raw/main/Data/CNBC.zip\n",
    "# CNN\n",
    "!wget https://github.com/Ben-physics-dotcom/DEDA-SoSe2023-stock-market-and-financial-news-sentimental-analysis-during-covid-19/raw/main/Data/CNN.zip\n",
    "# Yahoo\n",
    "!wget https://github.com/Ben-physics-dotcom/DEDA-SoSe2023-stock-market-and-financial-news-sentimental-analysis-during-covid-19/raw/main/Data/ysp.zip"
   ]
  },
  {
   "cell_type": "code",
   "execution_count": null,
   "id": "44762593-f1b1-46ad-a718-7a62f8996495",
   "metadata": {},
   "outputs": [],
   "source": [
    "# NYT\n",
    "!wget https://github.com/Ben-physics-dotcom/DEDA-SoSe2023-stock-market-and-financial-news-sentimental-analysis-during-covid-19/raw/708fd2175d8525413d6466ff435f87cd87b1e3f5/Data/NYT20.zip\n",
    "!wget https://github.com/Ben-physics-dotcom/DEDA-SoSe2023-stock-market-and-financial-news-sentimental-analysis-during-covid-19/raw/708fd2175d8525413d6466ff435f87cd87b1e3f5/Data/NYT21.zip\n",
    "!wget https://github.com/Ben-physics-dotcom/DEDA-SoSe2023-stock-market-and-financial-news-sentimental-analysis-during-covid-19/raw/main/Data/NYT22.zip"
   ]
  },
  {
   "cell_type": "markdown",
   "id": "bdd53c7b-ea7c-41dd-8aca-5a34563895df",
   "metadata": {
    "jp-MarkdownHeadingCollapsed": true,
    "tags": []
   },
   "source": [
    "## Unzip the data"
   ]
  },
  {
   "cell_type": "code",
   "execution_count": null,
   "id": "652ebe65-5c53-4e8d-9ebe-984af2a843f9",
   "metadata": {},
   "outputs": [],
   "source": [
    "!unzip CNBC.zip\n",
    "!unzip ysp.zip\n",
    "!unzip CNN.zip\n",
    "!unzip NYT20.zip\n",
    "!unzip NYT21.zip\n",
    "!unzip NYT22.zip"
   ]
  },
  {
   "cell_type": "markdown",
   "id": "fa010365-f121-47dd-b2f0-29fc2be9f9e4",
   "metadata": {
    "jp-MarkdownHeadingCollapsed": true,
    "tags": []
   },
   "source": [
    "## Data frames"
   ]
  },
  {
   "cell_type": "code",
   "execution_count": null,
   "id": "bb422fb8-fede-42db-9982-c497b58e7af1",
   "metadata": {},
   "outputs": [],
   "source": [
    "df_cnbc = pd.read_csv('CNBC.csv')\n",
    "df_cnn = pd.read_csv('CNN.csv')\n",
    "df_ysp = pd.read_csv('ysp.csv')\n",
    "df_nyt20 = pd.read_csv('NYT20.csv')\n",
    "df_nyt21 = pd.read_csv('NYT21.csv')\n",
    "df_nyt22 = pd.read_csv('NYT22.csv')"
   ]
  },
  {
   "cell_type": "code",
   "execution_count": null,
   "id": "8ce1b6ea-0865-4555-8636-bec579f004f1",
   "metadata": {},
   "outputs": [],
   "source": [
    "df_nyt = pd.concat([df_nyt20,df_nyt21,df_nyt22],ignore_index=False)"
   ]
  },
  {
   "cell_type": "markdown",
   "id": "a69612ba-f461-456a-9919-f3ccb9be1d13",
   "metadata": {},
   "source": [
    "# Data Manipulation for Sentimental Analysis"
   ]
  },
  {
   "cell_type": "markdown",
   "id": "24be6387-49e2-40d1-82e7-1c3db14a95a0",
   "metadata": {},
   "source": [
    "The defintion of the renaming the data frames comes from the discussion of the group which data from the old data frames to use."
   ]
  },
  {
   "cell_type": "markdown",
   "id": "8b2450a9-4202-4d81-83d4-a8d5ab93b623",
   "metadata": {
    "tags": []
   },
   "source": [
    "## New Data Frames"
   ]
  },
  {
   "cell_type": "code",
   "execution_count": null,
   "id": "9f8e4055-1083-4023-a9ca-99a32830d0e8",
   "metadata": {},
   "outputs": [],
   "source": [
    "# creating new data frames\n",
    "new_cnbc = df_cnbc[['published_at','keywords','description']]\n",
    "new_cnn = df_cnn[['Date published','Keywords','Article text']]\n",
    "new_ysp = df_ysp[['Date','content']]\n",
    "new_nyt = df_nyt[['pub_date','keywords','abstract']]"
   ]
  },
  {
   "cell_type": "code",
   "execution_count": null,
   "id": "87e57740-a719-434d-b6b6-55c4c6ad25e1",
   "metadata": {},
   "outputs": [],
   "source": [
    "# rename columns:\n",
    "\n",
    "# cnbc\n",
    "new_cnbc.rename(columns={'published_at': 'Date'}, inplace=True)\n",
    "new_cnbc.rename(columns={'keywords': 'KW'}, inplace=True)\n",
    "new_cnbc.rename(columns={'description': 'Text'}, inplace=True)\n",
    "\n",
    "# cnn \n",
    "new_cnn.rename(columns={'Date published': 'Date'}, inplace=True)\n",
    "new_cnn.rename(columns={'Keywords': 'KW'}, inplace=True)\n",
    "new_cnn.rename(columns={'Article text': 'Text'}, inplace=True)\n",
    "\n",
    "# ysp\n",
    "new_ysp.rename(columns={'content': 'Text'}, inplace=True)\n",
    "\n",
    "# nyt\n",
    "new_nyt.rename(columns={'pub_date': 'Date'}, inplace=True)\n",
    "new_nyt.rename(columns={'keywords': 'KW'}, inplace=True)\n",
    "new_nyt.rename(columns={'abstract': 'Text'}, inplace=True)"
   ]
  },
  {
   "cell_type": "markdown",
   "id": "e54838da-91c1-4c31-8531-823d9ed2bf2b",
   "metadata": {},
   "source": [
    "## Date Configuration"
   ]
  },
  {
   "cell_type": "code",
   "execution_count": null,
   "id": "016f2e6e-d1e3-445b-ab77-81375ba3719e",
   "metadata": {},
   "outputs": [],
   "source": [
    "new_cnbc['Date'] = new_cnbc['Date'].apply(lambda x: datetime.strptime(x, \"%Y-%m-%dT%H:%M:%S%z\").strftime(\"%Y-%m-%d\"))\n",
    "new_cnn['Date'] = new_cnn['Date'].apply(lambda x:datetime.strptime(x, \"%Y-%m-%d %H:%M:%S\").strftime(\"%Y-%m-%d\"))\n",
    "new_nyt['Date'] = new_nyt['Date'].apply(lambda x:datetime.strptime(x, \"%Y-%m-%d %H:%M:%S+00:00\").strftime(\"%Y-%m-%d\"))"
   ]
  },
  {
   "cell_type": "markdown",
   "id": "48d66274-7f12-4fa8-873c-9a4855886039",
   "metadata": {},
   "source": [
    "# Data Manipulation"
   ]
  },
  {
   "cell_type": "markdown",
   "id": "380c06c4-c662-4f99-ab44-a1094b2a6d67",
   "metadata": {},
   "source": [
    "Some of the new_nyt['Text'] are empty. I remove them:"
   ]
  },
  {
   "cell_type": "code",
   "execution_count": null,
   "id": "50037d14-38b0-4ab0-a502-05c127c16c63",
   "metadata": {},
   "outputs": [],
   "source": [
    "# cnbc manipulation\n",
    "drop_ind = []\n",
    "for i in range(len(new_cnbc)):\n",
    "    if type(new_cnbc.at[i,'Text']) == str:\n",
    "        pass\n",
    "    else:\n",
    "        drop_ind.append(i)\n",
    "\n",
    "# drop out the lines of cnbc \n",
    "new_cnbc = new_cnbc.drop(index=drop_ind)\n",
    "\n",
    "# nyt manipulation\n",
    "drop_ind = []\n",
    "for i in range(len(new_nyt)):\n",
    "    if type(new_nyt.at[i,'Text']) == str:\n",
    "        pass\n",
    "    else:\n",
    "        drop_ind.append(i)\n",
    "\n",
    "# drop out the lines of nyt \n",
    "new_nyt = new_nyt.drop(index=drop_ind)\n",
    "\n"
   ]
  },
  {
   "cell_type": "markdown",
   "id": "ec0c634d-016d-481e-b9f1-43f22a23eed4",
   "metadata": {},
   "source": [
    "# Downloading Data on local computer"
   ]
  },
  {
   "cell_type": "code",
   "execution_count": null,
   "id": "4d2f4647-4084-4eac-ba18-5d56b76d5609",
   "metadata": {},
   "outputs": [],
   "source": [
    "# new_cnbc.to_csv('CNBC-SA.csv', encoding = 'utf-8-sig')\n",
    "# new_cnn.to_csv('CNN-SA.csv', encoding = 'utf-8-sig')\n",
    "# new_ysp.to_csv('YSP-SA.csv', encoding = 'utf-8-sig')\n",
    "# new_nyt.to_csv('NYT-SA.csv', encoding = 'utf-8-sig')\n",
    "# files.download('NYT-SA.csv')\n",
    "# files.download('YSP-SA.csv')\n",
    "# files.download('CNN-SA.csv')\n",
    "# files.download('CNBC-SA.csv')"
   ]
  }
 ],
 "metadata": {
  "kernelspec": {
   "display_name": "Python 3 (ipykernel)",
   "language": "python",
   "name": "python3"
  },
  "language_info": {
   "codemirror_mode": {
    "name": "ipython",
    "version": 3
   },
   "file_extension": ".py",
   "mimetype": "text/x-python",
   "name": "python",
   "nbconvert_exporter": "python",
   "pygments_lexer": "ipython3",
   "version": "3.7.13"
  }
 },
 "nbformat": 4,
 "nbformat_minor": 5
}
