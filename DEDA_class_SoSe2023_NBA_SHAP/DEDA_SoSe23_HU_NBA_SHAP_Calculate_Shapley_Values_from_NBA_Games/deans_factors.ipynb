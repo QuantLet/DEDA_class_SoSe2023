{
 "cells": [
  {
   "cell_type": "code",
   "execution_count": 2,
   "id": "2d3db45e-dbba-436f-b907-95d1010c14e1",
   "metadata": {},
   "outputs": [],
   "source": [
    "import pandas as pd \n",
    "import itertools\n",
    "import deans_factors\n",
    "%load_ext autoreload\n",
    "%autoreload 2"
   ]
  },
  {
   "cell_type": "markdown",
   "id": "b4000286-cc08-48a1-8e0d-412da2611649",
   "metadata": {},
   "source": [
    "### 1. Load data from season"
   ]
  },
  {
   "cell_type": "code",
   "execution_count": 3,
   "id": "aca7fe6e-58e6-4277-950e-758df7ede0bf",
   "metadata": {},
   "outputs": [],
   "source": [
    "season = pd.read_csv('lakers_season_18_19_absolute.csv')"
   ]
  },
  {
   "cell_type": "markdown",
   "id": "35b8afa4-4f67-492b-ab4e-834241faeaa1",
   "metadata": {},
   "source": [
    "### 2. Get roster from respective season"
   ]
  },
  {
   "cell_type": "code",
   "execution_count": 4,
   "id": "98eb2107-b891-417f-84ed-ec59e1fa56ea",
   "metadata": {},
   "outputs": [],
   "source": [
    "roster = pd.read_csv('../lakers_rosters.csv',sep=';')\n",
    "roster = roster[roster['Season']=='18_19']['Player']"
   ]
  },
  {
   "cell_type": "markdown",
   "id": "f627b027-ed54-45f1-8ae6-524b00287358",
   "metadata": {},
   "source": [
    "### 3. Get active roster (max 40 games missed in season) and all the possible lineups"
   ]
  },
  {
   "cell_type": "code",
   "execution_count": 5,
   "id": "36d99fdf-872c-413a-9f08-a9e6da0c8e7a",
   "metadata": {},
   "outputs": [],
   "source": [
    "active_roster = deans_factors.get_active_roster(season,roster)"
   ]
  },
  {
   "cell_type": "code",
   "execution_count": 6,
   "id": "9ffe2077-0500-4da2-b5a3-c65c6124727a",
   "metadata": {},
   "outputs": [],
   "source": [
    "combinations = deans_factors.get_combinations(active_roster)"
   ]
  },
  {
   "cell_type": "code",
   "execution_count": 7,
   "id": "e7d48156-69ef-4f84-9fd7-9b82a7a116e0",
   "metadata": {},
   "outputs": [
    {
     "data": {
      "text/plain": [
       "['Lonzo Ball',\n",
       " 'Kentavious Caldwell-Pope',\n",
       " 'Tyson Chandler',\n",
       " 'Josh Hart',\n",
       " 'Brandon Ingram',\n",
       " 'LeBron James',\n",
       " 'Kyle Kuzma',\n",
       " 'JaVale McGee',\n",
       " 'Rajon Rondo',\n",
       " 'Lance Stephenson',\n",
       " 'Moritz Wagner']"
      ]
     },
     "execution_count": 7,
     "metadata": {},
     "output_type": "execute_result"
    }
   ],
   "source": [
    "active_roster"
   ]
  },
  {
   "cell_type": "code",
   "execution_count": 8,
   "id": "a7d67cb2-0374-47d5-a9f4-e475c9680e14",
   "metadata": {},
   "outputs": [],
   "source": [
    "deans_factors_season = deans_factors.deans_factors_season(season,combinations)"
   ]
  },
  {
   "cell_type": "code",
   "execution_count": 9,
   "id": "6597acc6-450e-4ee5-9269-492aa4d98778",
   "metadata": {},
   "outputs": [],
   "source": [
    "deans_factors_season = pd.DataFrame(deans_factors_season)"
   ]
  },
  {
   "cell_type": "code",
   "execution_count": 10,
   "id": "c80ba382-5a95-4539-b7d9-d44af176aa51",
   "metadata": {},
   "outputs": [
    {
     "data": {
      "text/html": [
       "<div>\n",
       "<style scoped>\n",
       "    .dataframe tbody tr th:only-of-type {\n",
       "        vertical-align: middle;\n",
       "    }\n",
       "\n",
       "    .dataframe tbody tr th {\n",
       "        vertical-align: top;\n",
       "    }\n",
       "\n",
       "    .dataframe thead th {\n",
       "        text-align: right;\n",
       "    }\n",
       "</style>\n",
       "<table border=\"1\" class=\"dataframe\">\n",
       "  <thead>\n",
       "    <tr style=\"text-align: right;\">\n",
       "      <th></th>\n",
       "      <th>player1</th>\n",
       "      <th>player2</th>\n",
       "      <th>player3</th>\n",
       "      <th>player4</th>\n",
       "      <th>player5</th>\n",
       "      <th>off_fg_perc</th>\n",
       "      <th>def_fg_perc</th>\n",
       "      <th>off_to_perc</th>\n",
       "      <th>def_to_perc</th>\n",
       "      <th>off_rb_perc</th>\n",
       "      <th>def_rb_perc</th>\n",
       "      <th>off_ft_factor</th>\n",
       "      <th>def_ft_factor</th>\n",
       "    </tr>\n",
       "  </thead>\n",
       "  <tbody>\n",
       "    <tr>\n",
       "      <th>0</th>\n",
       "      <td>Lonzo Ball</td>\n",
       "      <td>Kentavious Caldwell-Pope</td>\n",
       "      <td>Tyson Chandler</td>\n",
       "      <td>Josh Hart</td>\n",
       "      <td>Brandon Ingram</td>\n",
       "      <td>0.546599</td>\n",
       "      <td>0.538868</td>\n",
       "      <td>0.147611</td>\n",
       "      <td>0.061883</td>\n",
       "      <td>0.052128</td>\n",
       "      <td>0.389499</td>\n",
       "      <td>0.0</td>\n",
       "      <td>0.196958</td>\n",
       "    </tr>\n",
       "    <tr>\n",
       "      <th>1</th>\n",
       "      <td>Lonzo Ball</td>\n",
       "      <td>Kentavious Caldwell-Pope</td>\n",
       "      <td>Tyson Chandler</td>\n",
       "      <td>Josh Hart</td>\n",
       "      <td>LeBron James</td>\n",
       "      <td>0.563372</td>\n",
       "      <td>0.541096</td>\n",
       "      <td>0.149827</td>\n",
       "      <td>0.063978</td>\n",
       "      <td>0.054815</td>\n",
       "      <td>0.432750</td>\n",
       "      <td>0.0</td>\n",
       "      <td>0.194908</td>\n",
       "    </tr>\n",
       "    <tr>\n",
       "      <th>2</th>\n",
       "      <td>Lonzo Ball</td>\n",
       "      <td>Kentavious Caldwell-Pope</td>\n",
       "      <td>Tyson Chandler</td>\n",
       "      <td>Josh Hart</td>\n",
       "      <td>Kyle Kuzma</td>\n",
       "      <td>0.546172</td>\n",
       "      <td>0.541761</td>\n",
       "      <td>0.136060</td>\n",
       "      <td>0.062767</td>\n",
       "      <td>0.052341</td>\n",
       "      <td>0.394443</td>\n",
       "      <td>0.0</td>\n",
       "      <td>0.202433</td>\n",
       "    </tr>\n",
       "    <tr>\n",
       "      <th>3</th>\n",
       "      <td>Lonzo Ball</td>\n",
       "      <td>Kentavious Caldwell-Pope</td>\n",
       "      <td>Tyson Chandler</td>\n",
       "      <td>Josh Hart</td>\n",
       "      <td>JaVale McGee</td>\n",
       "      <td>0.567592</td>\n",
       "      <td>0.544645</td>\n",
       "      <td>0.145643</td>\n",
       "      <td>0.063525</td>\n",
       "      <td>0.077479</td>\n",
       "      <td>0.423406</td>\n",
       "      <td>0.0</td>\n",
       "      <td>0.198579</td>\n",
       "    </tr>\n",
       "    <tr>\n",
       "      <th>4</th>\n",
       "      <td>Lonzo Ball</td>\n",
       "      <td>Kentavious Caldwell-Pope</td>\n",
       "      <td>Tyson Chandler</td>\n",
       "      <td>Josh Hart</td>\n",
       "      <td>Rajon Rondo</td>\n",
       "      <td>0.530504</td>\n",
       "      <td>0.540990</td>\n",
       "      <td>0.170722</td>\n",
       "      <td>0.062853</td>\n",
       "      <td>0.052019</td>\n",
       "      <td>0.388554</td>\n",
       "      <td>0.0</td>\n",
       "      <td>0.199698</td>\n",
       "    </tr>\n",
       "  </tbody>\n",
       "</table>\n",
       "</div>"
      ],
      "text/plain": [
       "      player1                   player2         player3    player4   \n",
       "0  Lonzo Ball  Kentavious Caldwell-Pope  Tyson Chandler  Josh Hart  \\\n",
       "1  Lonzo Ball  Kentavious Caldwell-Pope  Tyson Chandler  Josh Hart   \n",
       "2  Lonzo Ball  Kentavious Caldwell-Pope  Tyson Chandler  Josh Hart   \n",
       "3  Lonzo Ball  Kentavious Caldwell-Pope  Tyson Chandler  Josh Hart   \n",
       "4  Lonzo Ball  Kentavious Caldwell-Pope  Tyson Chandler  Josh Hart   \n",
       "\n",
       "          player5  off_fg_perc  def_fg_perc  off_to_perc  def_to_perc   \n",
       "0  Brandon Ingram     0.546599     0.538868     0.147611     0.061883  \\\n",
       "1    LeBron James     0.563372     0.541096     0.149827     0.063978   \n",
       "2      Kyle Kuzma     0.546172     0.541761     0.136060     0.062767   \n",
       "3    JaVale McGee     0.567592     0.544645     0.145643     0.063525   \n",
       "4     Rajon Rondo     0.530504     0.540990     0.170722     0.062853   \n",
       "\n",
       "   off_rb_perc  def_rb_perc  off_ft_factor  def_ft_factor  \n",
       "0     0.052128     0.389499            0.0       0.196958  \n",
       "1     0.054815     0.432750            0.0       0.194908  \n",
       "2     0.052341     0.394443            0.0       0.202433  \n",
       "3     0.077479     0.423406            0.0       0.198579  \n",
       "4     0.052019     0.388554            0.0       0.199698  "
      ]
     },
     "execution_count": 10,
     "metadata": {},
     "output_type": "execute_result"
    }
   ],
   "source": [
    "deans_factors_season.head()"
   ]
  },
  {
   "cell_type": "code",
   "execution_count": 11,
   "id": "37b39df8-2108-429f-8922-4ec00defbc91",
   "metadata": {},
   "outputs": [],
   "source": [
    "import warnings\n",
    "warnings.filterwarnings('ignore')"
   ]
  },
  {
   "cell_type": "code",
   "execution_count": 12,
   "id": "b480f198-9a7a-485b-9279-c16f1589c036",
   "metadata": {},
   "outputs": [],
   "source": [
    "def calculate_probas(deans_factors,tmp_active,model):\n",
    "        \n",
    "    probas = []\n",
    "    for i, row in deans_factors.iterrows():\n",
    "        probas.append(model.predict_proba([row[5:]])[0][1])\n",
    "    return probas"
   ]
  },
  {
   "cell_type": "code",
   "execution_count": 13,
   "id": "02727d14-c233-4d58-8238-e84d5dac9f9e",
   "metadata": {},
   "outputs": [],
   "source": [
    "def calculate_shapley(deans_factors,active_players):\n",
    "    shapley_values={}\n",
    "    for player in active_players:\n",
    "        respective_player = deans_factors[(deans_factors['player1']==player) | (deans_factors['player2']==player) | (deans_factors['player3']==player) | (deans_factors['player4']==player) | (deans_factors['player5']==player) ]\n",
    "        \n",
    "        combinations = len(respective_player.index)\n",
    "        number_players = len(active_players)\n",
    "        \n",
    "        shapley = 1/(combinations*number_players)*(respective_player['probas'].sum())\n",
    "        \n",
    "        shapley_values[player] = shapley\n",
    "        \n",
    "    return shapley_values"
   ]
  },
  {
   "cell_type": "code",
   "execution_count": 14,
   "id": "a4ef7e34-c60f-4d44-84d7-06d201c1ac9f",
   "metadata": {},
   "outputs": [],
   "source": [
    "def to_shap(season,model):\n",
    "    \n",
    "    tmp_active = deans_factors.get_active_roster(season,roster)\n",
    "    \n",
    "    tmp_combinations = deans_factors.get_combinations(tmp_active)\n",
    "    \n",
    "    game_deans = pd.DataFrame(deans_factors.deans_factors_season(season,tmp_combinations))\n",
    "    \n",
    "    filled_game_deans = game_deans.fillna(0)\n",
    "    \n",
    "    # return filled_game_deans\n",
    "    \n",
    "    probas = calculate_probas(filled_game_deans,tmp_active,model)\n",
    "    \n",
    "    filled_game_deans['probas'] = probas\n",
    "    \n",
    "    shapley_values = calculate_shapley(filled_game_deans,tmp_active)\n",
    "    \n",
    "    return shapley_values"
   ]
  },
  {
   "cell_type": "code",
   "execution_count": 43,
   "id": "3c41f307-a8a6-4d41-b5d4-ea7414e8bd1a",
   "metadata": {},
   "outputs": [],
   "source": [
    "def calculate_probas_xgb(deans_factors,tmp_active,model):\n",
    "        \n",
    "    probas = []\n",
    "    for i, row in deans_factors.iterrows():\n",
    "        probas.append(model.predict_proba([row[5:]])[0][1])\n",
    "    return probas"
   ]
  },
  {
   "cell_type": "code",
   "execution_count": 111,
   "id": "7d273900-c3bb-4592-8781-d3c2b417a7b3",
   "metadata": {},
   "outputs": [],
   "source": [
    "def to_shap_xgb(season,model):\n",
    "    \n",
    "    tmp_active = deans_factors.get_active_roster(season,roster)\n",
    "    \n",
    "    tmp_combinations = deans_factors.get_combinations(tmp_active)\n",
    "    \n",
    "    game_deans = pd.DataFrame(deans_factors.deans_factors_season(season,tmp_combinations))\n",
    "    \n",
    "    filled_game_deans = game_deans.fillna(0)\n",
    "    \n",
    "    # return filled_game_deans\n",
    "    \n",
    "    # return filled_game_deans\n",
    "    \n",
    "    # filled_game_deans = xgb.DMatrix(filled_game_deans,enable_categorical=True)\n",
    "    \n",
    "    filled_game_deans = filled_game_deans.rename(renaming,axis='columns')\n",
    "    \n",
    "    filled_game_deans_tmp = filled_game_deans.drop(['player1','player2','player3','player4','player5'], axis=1)\n",
    "    \n",
    "    probas = model.predict_proba(filled_game_deans_tmp)[:,1]\n",
    "\n",
    "\n",
    "\n",
    "    \n",
    "    # probas = calculate_probas(filled_game_deans,tmp_active,model)\n",
    "    \n",
    "    filled_game_deans['probas'] = probas\n",
    "    \n",
    "    shapley_values = calculate_shapley(filled_game_deans,tmp_active)\n",
    "    \n",
    "    return shapley_values"
   ]
  },
  {
   "cell_type": "code",
   "execution_count": 15,
   "id": "c8a45796-9195-435b-a953-3899090b5fe2",
   "metadata": {},
   "outputs": [],
   "source": [
    "# importing different models"
   ]
  },
  {
   "cell_type": "code",
   "execution_count": 16,
   "id": "cc2ca27e-1b4f-4bf4-9c21-abd623b61fa7",
   "metadata": {},
   "outputs": [],
   "source": [
    "import pickle\n",
    "\n",
    "model_log_reg = pickle.load(open('../models/logreg_game_outcome_v2.pkl', 'rb'))\n",
    "model_dec_tree = pickle.load(open('../models/dtree_game_outcome_v1.pkl', 'rb'))\n",
    "# model_xgbcl = pickle.load(open('../models/xgbcl_game_outcome_v1.pkl', 'rb'))"
   ]
  },
  {
   "cell_type": "code",
   "execution_count": 17,
   "id": "36395bd8-1a0b-436b-aaf4-2a86815ea3ce",
   "metadata": {
    "tags": []
   },
   "outputs": [
    {
     "name": "stdout",
     "output_type": "stream",
     "text": [
      "[14:13:08] WARNING: /Users/runner/work/xgboost/xgboost/python-package/build/temp.macosx-10.9-x86_64-cpython-38/xgboost/src/learner.cc:553: \n",
      "  If you are loading a serialized model (like pickle in Python, RDS in R) generated by\n",
      "  older XGBoost, please export the model by calling `Booster.save_model` from that version\n",
      "  first, then load it back in current version. See:\n",
      "\n",
      "    https://xgboost.readthedocs.io/en/latest/tutorials/saving_model.html\n",
      "\n",
      "  for more details about differences between saving model and serializing.\n",
      "\n"
     ]
    }
   ],
   "source": [
    "model_xgbcl = pickle.load(open('../models/xgbcl_game_outcome_v1.pkl', 'rb'))"
   ]
  },
  {
   "cell_type": "code",
   "execution_count": 18,
   "id": "a6459ab6-3775-4fec-a335-415a78dc427f",
   "metadata": {},
   "outputs": [],
   "source": [
    "shap_values = to_shap(season,model_log_reg)"
   ]
  },
  {
   "cell_type": "code",
   "execution_count": 19,
   "id": "885c80c4-495b-4fac-be71-83b842502d05",
   "metadata": {},
   "outputs": [
    {
     "data": {
      "text/plain": [
       "{'Lonzo Ball': 0.00010438606810115442,\n",
       " 'Kentavious Caldwell-Pope': 0.00012342898301390812,\n",
       " 'Tyson Chandler': 0.00015066345011733155,\n",
       " 'Josh Hart': 0.00013032241796579199,\n",
       " 'Brandon Ingram': 0.0001214937416728379,\n",
       " 'LeBron James': 0.00017347071903457827,\n",
       " 'Kyle Kuzma': 0.00012767277847711218,\n",
       " 'JaVale McGee': 0.00018049136415674845,\n",
       " 'Rajon Rondo': 7.551936261942508e-05,\n",
       " 'Lance Stephenson': 0.00010748485897159257,\n",
       " 'Moritz Wagner': 0.00011552646059233958}"
      ]
     },
     "execution_count": 19,
     "metadata": {},
     "output_type": "execute_result"
    }
   ],
   "source": [
    "shap_values"
   ]
  },
  {
   "cell_type": "code",
   "execution_count": 20,
   "id": "be381013-aca1-4ffe-a1d4-d6eb72a23e1f",
   "metadata": {},
   "outputs": [],
   "source": [
    "shap_values_dec_tree = to_shap(season,model_dec_tree)"
   ]
  },
  {
   "cell_type": "code",
   "execution_count": 21,
   "id": "a3d9db89-276b-466e-a61e-4a9511a8c58a",
   "metadata": {},
   "outputs": [
    {
     "data": {
      "text/plain": [
       "{'Lonzo Ball': 0.01086001689594504,\n",
       " 'Kentavious Caldwell-Pope': 0.014715395050724393,\n",
       " 'Tyson Chandler': 0.01775306928600342,\n",
       " 'Josh Hart': 0.015008344948464711,\n",
       " 'Brandon Ingram': 0.014496803263270332,\n",
       " 'LeBron James': 0.022142835208703474,\n",
       " 'Kyle Kuzma': 0.014234760582065973,\n",
       " 'JaVale McGee': 0.02295762919715016,\n",
       " 'Rajon Rondo': 0.010525857376156779,\n",
       " 'Lance Stephenson': 0.014188399757262033,\n",
       " 'Moritz Wagner': 0.014810357972034623}"
      ]
     },
     "execution_count": 21,
     "metadata": {},
     "output_type": "execute_result"
    }
   ],
   "source": [
    "shap_values_dec_tree"
   ]
  },
  {
   "cell_type": "code",
   "execution_count": 23,
   "id": "f1e3c301-0d7a-4869-8020-2e37ab8e3dfa",
   "metadata": {},
   "outputs": [],
   "source": [
    "import xgboost as xgb"
   ]
  },
  {
   "cell_type": "code",
   "execution_count": 117,
   "id": "f06956bb-58f0-4582-ae19-216d09a42036",
   "metadata": {},
   "outputs": [],
   "source": [
    "# Column name matching (Necessary for xgboost model)\n",
    "renaming = {'off_fg_perc': 'off_eff_fg_perc', 'def_fg_perc': 'def_eff_fg_perc','off_to_perc':'off_tov_perc','def_to_perc':'def_tov_perc','off_rb_perc':'off_reb_perc','def_rb_perc':'def_reb_perc','off_ft_factor':'off_free_throw_factor','def_ft_factor':'def_free_throw_factor'}"
   ]
  },
  {
   "cell_type": "code",
   "execution_count": 113,
   "id": "a0a6539f-3afd-4b8a-80cc-ba05c1bca188",
   "metadata": {
    "tags": []
   },
   "outputs": [],
   "source": [
    "xgb_shap_values = to_shap_xgb(season,model_xgbcl)"
   ]
  },
  {
   "cell_type": "code",
   "execution_count": 115,
   "id": "d3fd2e59-67c4-4dd4-b5f4-f0cdfed52876",
   "metadata": {},
   "outputs": [],
   "source": [
    "xgb_shap_values = pd.DataFrame(xgb_shap_values,index=[0])"
   ]
  },
  {
   "cell_type": "code",
   "execution_count": 116,
   "id": "8afa1291-03b5-49e9-9ec0-8134daf0f298",
   "metadata": {},
   "outputs": [],
   "source": [
    "xgb_shap_values.to_csv('../data/xgbcl_shap_lakers_18_19.csv')"
   ]
  },
  {
   "cell_type": "code",
   "execution_count": 31,
   "id": "262bac71-d982-4b63-90e9-66ac1ef7baf7",
   "metadata": {},
   "outputs": [],
   "source": [
    "log_reg_shap_values = pd.DataFrame(shap_values,index=[0])"
   ]
  },
  {
   "cell_type": "code",
   "execution_count": 32,
   "id": "1627dd70-17cf-4406-9386-7e2b3d957a78",
   "metadata": {},
   "outputs": [],
   "source": [
    "log_reg_shap_values.to_csv('../data/log_reg_shap_lakers_18_19.csv')"
   ]
  },
  {
   "cell_type": "code",
   "execution_count": 33,
   "id": "e6754e6f-1a9d-4070-bc0a-017d6d146391",
   "metadata": {},
   "outputs": [],
   "source": [
    "dec_tree_shap_values = pd.DataFrame(shap_values_dec_tree,index=[0])"
   ]
  },
  {
   "cell_type": "code",
   "execution_count": 34,
   "id": "03a3244f-ffbd-4dbc-8ef3-f3dc63d4ef88",
   "metadata": {},
   "outputs": [],
   "source": [
    "dec_tree_shap_values.to_csv('../data/dec_tree_shap_lakers_18_19.csv')"
   ]
  },
  {
   "cell_type": "markdown",
   "id": "3d7ba84b-13be-4a09-8d23-0529c98b6b57",
   "metadata": {},
   "source": [
    "### Result: SHAP Vales for the whole season!"
   ]
  }
 ],
 "metadata": {
  "kernelspec": {
   "display_name": "Python 3 (ipykernel)",
   "language": "python",
   "name": "python3"
  },
  "language_info": {
   "codemirror_mode": {
    "name": "ipython",
    "version": 3
   },
   "file_extension": ".py",
   "mimetype": "text/x-python",
   "name": "python",
   "nbconvert_exporter": "python",
   "pygments_lexer": "ipython3",
   "version": "3.8.12"
  }
 },
 "nbformat": 4,
 "nbformat_minor": 5
}
