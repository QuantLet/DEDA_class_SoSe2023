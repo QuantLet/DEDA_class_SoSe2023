{
 "cells": [
  {
   "cell_type": "code",
   "execution_count": 30,
   "id": "ad739f29-145a-4e52-89c5-006c9c3a1e16",
   "metadata": {},
   "outputs": [
    {
     "name": "stdout",
     "output_type": "stream",
     "text": [
      "Number of rows in table 'play_by_play': 36632\n"
     ]
    }
   ],
   "source": [
    "import sqlite3\n",
    "\n",
    "# Connect to the existing database\n",
    "existing_db_path = 'nba.sqlite'\n",
    "connection = sqlite3.connect(existing_db_path)\n",
    "cursor = connection.cursor()\n",
    "\n",
    "# Get the number of rows in the table\n",
    "table_name = 'play_by_play'\n",
    "count_query = \"SELECT COUNT(*) FROM {0}\".format(table_name)\n",
    "cursor.execute(count_query)\n",
    "row_count = cursor.fetchone()[0]\n",
    "\n",
    "# Print the number of rows\n",
    "print(\"Number of rows in table '{0}': {1}\".format(table_name, row_count))\n",
    "\n",
    "# Close the cursor and the connection to the database\n",
    "cursor.close()\n",
    "connection.close()"
   ]
  },
  {
   "cell_type": "code",
   "execution_count": 27,
   "id": "e25b350e-b0a0-4599-8b19-6ff37cab91e9",
   "metadata": {},
   "outputs": [],
   "source": [
    "import sqlite3\n",
    "\n",
    "# Connect to the existing database\n",
    "existing_db_path = 'nba.sqlite'\n",
    "connection = sqlite3.connect(existing_db_path)\n",
    "cursor = connection.cursor()\n",
    "\n",
    "# Get the total number of rows in the table\n",
    "cursor.execute(\"SELECT COUNT(*) FROM play_by_play\")\n",
    "total_rows = cursor.fetchone()[0]\n",
    "\n",
    "# Calculate the row number from where to start deletion\n",
    "start_row = total_rows - 2000 + 1\n",
    "\n",
    "# Delete rows starting from the calculated row number until the end\n",
    "delete_query = \"DELETE FROM play_by_play WHERE rowid >= {0}\".format(start_row)\n",
    "cursor.execute(delete_query)\n",
    "\n",
    "# Save changes and close the connection to the existing database\n",
    "connection.commit()\n",
    "cursor.close()\n",
    "connection.close()"
   ]
  },
  {
   "cell_type": "code",
   "execution_count": 28,
   "id": "e93d2abf-a01a-401f-bce2-0d696d9cbf75",
   "metadata": {},
   "outputs": [],
   "source": [
    "import sqlite3\n",
    "\n",
    "# Connect to the existing database\n",
    "existing_db_path = 'nba.sqlite'\n",
    "connection = sqlite3.connect(existing_db_path)\n",
    "cursor = connection.cursor()\n",
    "\n",
    "# Perform necessary deletion operations\n",
    "# ...\n",
    "\n",
    "# Save changes and close the connection to the existing database\n",
    "connection.commit()\n",
    "cursor.close()\n",
    "connection.close()\n",
    "\n",
    "# Perform VACUUM to decrease the size of the database\n",
    "vacuum_connection = sqlite3.connect(existing_db_path)\n",
    "vacuum_cursor = vacuum_connection.cursor()\n",
    "vacuum_cursor.execute(\"VACUUM\")\n",
    "vacuum_cursor.close()\n",
    "vacuum_connection.close()"
   ]
  },
  {
   "cell_type": "code",
   "execution_count": 29,
   "id": "ad4ba02b-6373-4042-95d9-b07585a9c849",
   "metadata": {},
   "outputs": [
    {
     "name": "stdout",
     "output_type": "stream",
     "text": [
      "File Size: 23.62 MB\n"
     ]
    }
   ],
   "source": [
    "import os\n",
    "import math\n",
    "# Specify the path to your SQLite database\n",
    "db_path = 'nba.sqlite'\n",
    "\n",
    "# Get the file size in bytes\n",
    "file_size = os.path.getsize(db_path)\n",
    "\n",
    "# Convert the file size to a human-readable format\n",
    "# Reference: https://stackoverflow.com/a/1094933\n",
    "def convert_size(size_bytes):\n",
    "    if size_bytes == 0:\n",
    "        return \"0 B\"\n",
    "    size_name = (\"B\", \"KB\", \"MB\", \"GB\", \"TB\", \"PB\", \"EB\", \"ZB\", \"YB\")\n",
    "    i = int(math.floor(math.log(size_bytes, 1024)))\n",
    "    p = math.pow(1024, i)\n",
    "    s = round(size_bytes / p, 2)\n",
    "    return \"{0} {1}\".format(s, size_name[i])\n",
    "\n",
    "# Convert the file size to a human-readable format\n",
    "formatted_file_size = convert_size(file_size)\n",
    "\n",
    "# Print the file size\n",
    "print(\"File Size: {0}\".format(formatted_file_size))"
   ]
  },
  {
   "cell_type": "code",
   "execution_count": null,
   "id": "923744eb-facf-4a5f-bc04-99669da97d81",
   "metadata": {},
   "outputs": [],
   "source": []
  }
 ],
 "metadata": {
  "kernelspec": {
   "display_name": "Python 3 (ipykernel)",
   "language": "python",
   "name": "python3"
  },
  "language_info": {
   "codemirror_mode": {
    "name": "ipython",
    "version": 3
   },
   "file_extension": ".py",
   "mimetype": "text/x-python",
   "name": "python",
   "nbconvert_exporter": "python",
   "pygments_lexer": "ipython3",
   "version": "3.8.12"
  }
 },
 "nbformat": 4,
 "nbformat_minor": 5
}
