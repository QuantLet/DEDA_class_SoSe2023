{
 "cells": [
  {
   "cell_type": "markdown",
   "id": "4083d724-f909-493a-a034-dd344d1e6bbb",
   "metadata": {},
   "source": [
    "# **Welcome to the Demo Notebook for Webscraping**\n",
    "\n",
    "In this demo notebook we go through the `thesis_scraper.py` module used in the project and demonstrate its functionality.<br>\n"
   ]
  },
  {
   "cell_type": "markdown",
   "id": "1948788c-2ff8-48b9-a808-dd2a9fc8a07b",
   "metadata": {},
   "source": [
    "### **The Dependencies**\n"
   ]
  },
  {
   "cell_type": "markdown",
   "id": "09d5b33e-e2e1-41f1-bcf5-022d12ea2adb",
   "metadata": {},
   "source": [
    "First  import some basic libraries and then install the requirements to set up the environment needed for the project."
   ]
  },
  {
   "cell_type": "code",
   "execution_count": 1,
   "id": "2fe9aeb1-d446-43eb-bca6-be99779e42f2",
   "metadata": {
    "tags": []
   },
   "outputs": [],
   "source": [
    "# Basic libraries\n",
    "import re\n",
    "import os\n",
    "import gc\n",
    "import warnings\n",
    "warnings.filterwarnings(\"ignore\")\n",
    "import time\n",
    "\n",
    "import sys\n",
    "sys.path.append(\"..\")\n",
    "# Custom function to measure runtime\n",
    "from measure_time import measure_time"
   ]
  },
  {
   "cell_type": "code",
   "execution_count": 2,
   "id": "ca099084-e569-4fca-8de2-ff2096d19edb",
   "metadata": {
    "tags": []
   },
   "outputs": [
    {
     "data": {
      "text/plain": [
       "'/home/RDC/anasashb/Dokumente/DEDA_class_SoSe2023-split-quantlets/DEDA_class_SoSe2023_LDA_Theses/DEDA_class_SoSe2023_LDA_MSc_Theses/LDA_MSc_1_Webscraping'"
      ]
     },
     "execution_count": 2,
     "metadata": {},
     "output_type": "execute_result"
    }
   ],
   "source": [
    "os.getcwd()"
   ]
  },
  {
   "cell_type": "code",
   "execution_count": null,
   "id": "620d27be-1aeb-4c9b-a32c-b59242231dbd",
   "metadata": {
    "tags": []
   },
   "outputs": [],
   "source": [
    "# Install Requirements\n",
    "!pip install -r ../requirements.txt"
   ]
  },
  {
   "cell_type": "markdown",
   "id": "d1a3cf24-3fe6-44e9-a228-6a0076bfb06a",
   "metadata": {
    "tags": []
   },
   "source": [
    "### **The Scraper**\n",
    "Import the master_theses_scraper from the  added `thesis_scraper.py` module, docstring of which is given below. The function is constructed deliberately to produce many `print()` statements along the way to let the users know what stage of the work they are on and how this or that entry currently being processed looks like.\n",
    "\n",
    "Also, to note, the scraping implementation is designed in a way that is specifically targeted at the HU website, meaning it will need some tinkering inside for repurposing. \n"
   ]
  },
  {
   "cell_type": "code",
   "execution_count": 4,
   "id": "b507cbd8-aa1f-4ba4-bc3e-8aa71e5df07e",
   "metadata": {
    "tags": []
   },
   "outputs": [
    {
     "data": {
      "text/plain": [
       "\u001b[0;31mSignature:\u001b[0m \u001b[0mmaster_theses_scraper\u001b[0m\u001b[0;34m(\u001b[0m\u001b[0murl\u001b[0m\u001b[0;34m,\u001b[0m \u001b[0mdown_dir\u001b[0m\u001b[0;34m,\u001b[0m \u001b[0mheaders\u001b[0m\u001b[0;34m)\u001b[0m\u001b[0;34m\u001b[0m\u001b[0;34m\u001b[0m\u001b[0m\n",
       "\u001b[0;31mDocstring:\u001b[0m\n",
       "Scrapes master's theses from a specified URL, retrieves download links, and downloads the theses.\n",
       "\n",
       "Args:\n",
       "    url (str): The URL of the webpage containing the LvB theses.\n",
       "    down_dir (str): The directory where the scraped PDFs will be downloaded.\n",
       "    headers (dict): HTTP headers to be used in the requests.\n",
       "\u001b[0;31mFile:\u001b[0m      ~/Dokumente/DEDA_class_SoSe2023-split-quantlets/DEDA_class_SoSe2023_LDA_Theses/DEDA_class_SoSe2023_LDA_MSc_Theses/LDA_MSc_1_Webscraping/thesis_scraper.py\n",
       "\u001b[0;31mType:\u001b[0m      function"
      ]
     },
     "metadata": {},
     "output_type": "display_data"
    }
   ],
   "source": [
    "# Import the custom function and inspect\n",
    "from thesis_scraper import master_theses_scraper \n",
    "master_theses_scraper?"
   ]
  },
  {
   "cell_type": "code",
   "execution_count": 5,
   "id": "38ae1f44-eca1-4188-b3c0-4414c13ffa39",
   "metadata": {
    "tags": []
   },
   "outputs": [],
   "source": [
    "# Specify the link to scrape\n",
    "url = 'https://www.wiwi.hu-berlin.de/de/forschung/irtg/lvb/research/dmb'\n",
    "\n",
    "# Sets the directory for downloading our scraped pdfs\n",
    "down_dir = 'OCRed PDFs/'\n",
    "\n",
    "# Makes the directory in case it does not exist already\n",
    "os.makedirs(down_dir, exist_ok = True)\n",
    "\n",
    "\n",
    "# Set your own user agent here\n",
    "headers = {\n",
    "    'User-Agent': 'insert user-agent here',\n",
    "    'Accept-Language': 'en-US'\n",
    "}"
   ]
  },
  {
   "cell_type": "code",
   "execution_count": 6,
   "id": "00fd66d1-e7fd-42b3-8368-c7976ed63205",
   "metadata": {
    "tags": []
   },
   "outputs": [
    {
     "name": "stdout",
     "output_type": "stream",
     "text": [
      "\n",
      "Web page accessed.\n",
      "\n",
      "244 entries found.\n",
      "\n",
      "An example entry in our links container looks like:\n",
      " <a data-linktype=\"external\" data-val=\"https://edoc.hu-berlin.de/handle/18452/24455\" href=\"https://edoc.hu-berlin.de/handle/18452/24455\">Comparing Cryptocurrency Indices to Traditional Indices</a>\n",
      "\n",
      "Identifying invalid links...\n",
      "\n",
      "51 invalid links identified.\n",
      "\n",
      "193 entries remain.\n",
      "\n",
      "Identifying Master's Theses...\n",
      "\n",
      "124 Master's Theses identified.\n",
      "\n",
      "A sample entry looks as follows:\n",
      " <a href=\"https://edoc.hu-berlin.de/handle/18452/23881\">App-based Forecasting of CRIX Index Returns Using R and R-Shiny</a>\n",
      "\n",
      "Retrieving download links...\n",
      "\n",
      "Due to missing link, dropped entry: <a href=\"http://edoc.hu-berlin.de/master/ristig-alexander-2012-02-03\">Modelling of Vector MEM with Hierarchical Archimedean Copula</a>\n",
      "\n",
      "Due to missing link, dropped entry: <a href=\"http://edoc.hu-berlin.de/master/schelisch-martin-2011-06-10\">Jumps in High Frequency Data</a>\n",
      "\n",
      "Due to missing link, dropped entry: <a href=\"http://edoc.hu-berlin.de/master/pinosa-anna-2010-09-18\">Statistische Auswertung der Fehler in den Statistik-Klausuren</a>\n",
      "\n",
      "Retrieval complete.\n",
      "\n",
      "An example of our link looks like:\n",
      " https://edoc.hu-berlin.de/bitstream/handle/18452/23881/master_garcia_gonzalo.pdf?sequence=3&isAllowed=y\n",
      "\n",
      "We can download 121 Master's Theses in total.\n",
      "\n",
      "Download in progress...\n",
      "\n",
      "Download Complete\n",
      "\n",
      "Execution time: 0 hours 4 minutes 12 seconds\n"
     ]
    }
   ],
   "source": [
    "# Set begginning time \n",
    "st = time.time()\n",
    "\n",
    "# Run the function:\n",
    "master_theses_scraper(url = url,\n",
    "                      down_dir = down_dir,\n",
    "                      headers = headers\n",
    ")\n",
    "\n",
    "# Measure time spent on execution of the function\n",
    "measure_time(st)"
   ]
  }
 ],
 "metadata": {
  "kernelspec": {
   "display_name": "Python 3 (ipykernel)",
   "language": "python",
   "name": "python3"
  },
  "language_info": {
   "codemirror_mode": {
    "name": "ipython",
    "version": 3
   },
   "file_extension": ".py",
   "mimetype": "text/x-python",
   "name": "python",
   "nbconvert_exporter": "python",
   "pygments_lexer": "ipython3",
   "version": "3.9.17"
  }
 },
 "nbformat": 4,
 "nbformat_minor": 5
}
