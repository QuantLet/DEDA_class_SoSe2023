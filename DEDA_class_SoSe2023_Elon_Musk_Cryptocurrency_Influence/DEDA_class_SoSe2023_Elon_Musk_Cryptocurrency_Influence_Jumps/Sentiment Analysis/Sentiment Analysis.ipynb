{
 "cells": [
  {
   "cell_type": "code",
   "execution_count": 1,
   "id": "23bb237f",
   "metadata": {},
   "outputs": [
    {
     "name": "stdout",
     "output_type": "stream",
     "text": [
      "Requirement already satisfied: textblob in c:\\users\\user\\anaconda3\\lib\\site-packages (0.17.1)\n",
      "Requirement already satisfied: nltk>=3.1 in c:\\users\\user\\anaconda3\\lib\\site-packages (from textblob) (3.6.1)\n",
      "Requirement already satisfied: click in c:\\users\\user\\anaconda3\\lib\\site-packages (from nltk>=3.1->textblob) (8.1.3)\n",
      "Requirement already satisfied: regex in c:\\users\\user\\anaconda3\\lib\\site-packages (from nltk>=3.1->textblob) (2021.4.4)\n",
      "Requirement already satisfied: joblib in c:\\users\\user\\anaconda3\\lib\\site-packages (from nltk>=3.1->textblob) (1.0.1)\n",
      "Requirement already satisfied: tqdm in c:\\users\\user\\anaconda3\\lib\\site-packages (from nltk>=3.1->textblob) (4.59.0)\n",
      "Requirement already satisfied: colorama in c:\\users\\user\\anaconda3\\lib\\site-packages (from click->nltk>=3.1->textblob) (0.4.4)\n"
     ]
    },
    {
     "name": "stderr",
     "output_type": "stream",
     "text": [
      "C:\\Users\\User\\anaconda3\\lib\\site-packages\\scipy\\__init__.py:138: UserWarning: A NumPy version >=1.16.5 and <1.23.0 is required for this version of SciPy (detected version 1.24.4)\n",
      "  warnings.warn(f\"A NumPy version >={np_minversion} and <{np_maxversion} is required for this version of \"\n"
     ]
    }
   ],
   "source": [
    "! pip install textblob\n",
    "from textblob import TextBlob"
   ]
  },
  {
   "cell_type": "code",
   "execution_count": 2,
   "id": "e444e442",
   "metadata": {},
   "outputs": [],
   "source": [
    "import numpy as np\n",
    "import pandas as pd\n",
    "import matplotlib.pyplot as plt\n",
    "import seaborn as sns\n",
    "import matplotlib.pyplot as plt\n",
    "from sklearn import preprocessing\n",
    "%matplotlib inline\n",
    "\n"
   ]
  },
  {
   "cell_type": "code",
   "execution_count": 3,
   "id": "b9d007fd",
   "metadata": {},
   "outputs": [],
   "source": [
    "tweets = pd.read_csv('musktweets.csv')"
   ]
  },
  {
   "cell_type": "code",
   "execution_count": 4,
   "id": "3e927c66",
   "metadata": {},
   "outputs": [
    {
     "data": {
      "text/html": [
       "<div>\n",
       "<style scoped>\n",
       "    .dataframe tbody tr th:only-of-type {\n",
       "        vertical-align: middle;\n",
       "    }\n",
       "\n",
       "    .dataframe tbody tr th {\n",
       "        vertical-align: top;\n",
       "    }\n",
       "\n",
       "    .dataframe thead th {\n",
       "        text-align: right;\n",
       "    }\n",
       "</style>\n",
       "<table border=\"1\" class=\"dataframe\">\n",
       "  <thead>\n",
       "    <tr style=\"text-align: right;\">\n",
       "      <th></th>\n",
       "      <th>Unnamed: 0</th>\n",
       "      <th>MESSAGE</th>\n",
       "      <th>date</th>\n",
       "    </tr>\n",
       "  </thead>\n",
       "  <tbody>\n",
       "    <tr>\n",
       "      <th>0</th>\n",
       "      <td>0</td>\n",
       "      <td>Please ignore prior tweets, as that was someon...</td>\n",
       "      <td>2010-06-04 18:31:57+00:00</td>\n",
       "    </tr>\n",
       "    <tr>\n",
       "      <th>1</th>\n",
       "      <td>1</td>\n",
       "      <td>Went to Iceland on Sat to ride bumper cars on ...</td>\n",
       "      <td>2011-12-01 09:55:11+00:00</td>\n",
       "    </tr>\n",
       "    <tr>\n",
       "      <th>2</th>\n",
       "      <td>2</td>\n",
       "      <td>I made the volume on the Model S http://ow.ly/...</td>\n",
       "      <td>2011-12-01 10:29:04+00:00</td>\n",
       "    </tr>\n",
       "    <tr>\n",
       "      <th>3</th>\n",
       "      <td>3</td>\n",
       "      <td>Great Voltaire quote, arguably better than Twa...</td>\n",
       "      <td>2011-12-03 08:20:28+00:00</td>\n",
       "    </tr>\n",
       "    <tr>\n",
       "      <th>4</th>\n",
       "      <td>4</td>\n",
       "      <td>That was a total non sequitur btw\\n26\\n14\\n50</td>\n",
       "      <td>2011-12-03 08:22:07+00:00</td>\n",
       "    </tr>\n",
       "    <tr>\n",
       "      <th>...</th>\n",
       "      <td>...</td>\n",
       "      <td>...</td>\n",
       "      <td>...</td>\n",
       "    </tr>\n",
       "    <tr>\n",
       "      <th>31882</th>\n",
       "      <td>4</td>\n",
       "      <td>@AviSchiffmann Neuralink — Elon Musk (@elonmus...</td>\n",
       "      <td>2023-05-23 00:28:30+00:00</td>\n",
       "    </tr>\n",
       "    <tr>\n",
       "      <th>31883</th>\n",
       "      <td>3</td>\n",
       "      <td>@Gfilche @neuralink Human output data rate is ...</td>\n",
       "      <td>2023-05-23 00:28:31+00:00</td>\n",
       "    </tr>\n",
       "    <tr>\n",
       "      <th>31884</th>\n",
       "      <td>2</td>\n",
       "      <td>@levelsio Good idea — Elon Musk (@elonmusk) [M...</td>\n",
       "      <td>2023-05-23 14:30:43+00:00</td>\n",
       "    </tr>\n",
       "    <tr>\n",
       "      <th>31885</th>\n",
       "      <td>1</td>\n",
       "      <td>@Kristennetten It’s pretty wild in the Notes w...</td>\n",
       "      <td>2023-05-23 16:31:35+00:00</td>\n",
       "    </tr>\n",
       "    <tr>\n",
       "      <th>31886</th>\n",
       "      <td>0</td>\n",
       "      <td>@PeterDiamandis Write it on Twitter! Our algor...</td>\n",
       "      <td>2023-05-23 16:31:36+00:00</td>\n",
       "    </tr>\n",
       "  </tbody>\n",
       "</table>\n",
       "<p>31887 rows × 3 columns</p>\n",
       "</div>"
      ],
      "text/plain": [
       "       Unnamed: 0                                            MESSAGE  \\\n",
       "0               0  Please ignore prior tweets, as that was someon...   \n",
       "1               1  Went to Iceland on Sat to ride bumper cars on ...   \n",
       "2               2  I made the volume on the Model S http://ow.ly/...   \n",
       "3               3  Great Voltaire quote, arguably better than Twa...   \n",
       "4               4      That was a total non sequitur btw\\n26\\n14\\n50   \n",
       "...           ...                                                ...   \n",
       "31882           4  @AviSchiffmann Neuralink — Elon Musk (@elonmus...   \n",
       "31883           3  @Gfilche @neuralink Human output data rate is ...   \n",
       "31884           2  @levelsio Good idea — Elon Musk (@elonmusk) [M...   \n",
       "31885           1  @Kristennetten It’s pretty wild in the Notes w...   \n",
       "31886           0  @PeterDiamandis Write it on Twitter! Our algor...   \n",
       "\n",
       "                            date  \n",
       "0      2010-06-04 18:31:57+00:00  \n",
       "1      2011-12-01 09:55:11+00:00  \n",
       "2      2011-12-01 10:29:04+00:00  \n",
       "3      2011-12-03 08:20:28+00:00  \n",
       "4      2011-12-03 08:22:07+00:00  \n",
       "...                          ...  \n",
       "31882  2023-05-23 00:28:30+00:00  \n",
       "31883  2023-05-23 00:28:31+00:00  \n",
       "31884  2023-05-23 14:30:43+00:00  \n",
       "31885  2023-05-23 16:31:35+00:00  \n",
       "31886  2023-05-23 16:31:36+00:00  \n",
       "\n",
       "[31887 rows x 3 columns]"
      ]
     },
     "execution_count": 4,
     "metadata": {},
     "output_type": "execute_result"
    }
   ],
   "source": [
    "tweets"
   ]
  },
  {
   "cell_type": "code",
   "execution_count": 5,
   "id": "e100d6bd",
   "metadata": {},
   "outputs": [
    {
     "data": {
      "text/html": [
       "<div>\n",
       "<style scoped>\n",
       "    .dataframe tbody tr th:only-of-type {\n",
       "        vertical-align: middle;\n",
       "    }\n",
       "\n",
       "    .dataframe tbody tr th {\n",
       "        vertical-align: top;\n",
       "    }\n",
       "\n",
       "    .dataframe thead th {\n",
       "        text-align: right;\n",
       "    }\n",
       "</style>\n",
       "<table border=\"1\" class=\"dataframe\">\n",
       "  <thead>\n",
       "    <tr style=\"text-align: right;\">\n",
       "      <th></th>\n",
       "      <th>Unnamed: 0</th>\n",
       "      <th>MESSAGE</th>\n",
       "      <th>date</th>\n",
       "      <th>sentiment_score</th>\n",
       "      <th>sentiment</th>\n",
       "    </tr>\n",
       "  </thead>\n",
       "  <tbody>\n",
       "    <tr>\n",
       "      <th>0</th>\n",
       "      <td>0</td>\n",
       "      <td>Please ignore prior tweets, as that was someon...</td>\n",
       "      <td>2010-06-04 18:31:57+00:00</td>\n",
       "      <td>0.166667</td>\n",
       "      <td>Positive</td>\n",
       "    </tr>\n",
       "    <tr>\n",
       "      <th>1</th>\n",
       "      <td>1</td>\n",
       "      <td>Went to Iceland on Sat to ride bumper cars on ...</td>\n",
       "      <td>2011-12-01 09:55:11+00:00</td>\n",
       "      <td>0.600000</td>\n",
       "      <td>Positive</td>\n",
       "    </tr>\n",
       "    <tr>\n",
       "      <th>2</th>\n",
       "      <td>2</td>\n",
       "      <td>I made the volume on the Model S http://ow.ly/...</td>\n",
       "      <td>2011-12-01 10:29:04+00:00</td>\n",
       "      <td>0.000000</td>\n",
       "      <td>Neutral</td>\n",
       "    </tr>\n",
       "    <tr>\n",
       "      <th>3</th>\n",
       "      <td>3</td>\n",
       "      <td>Great Voltaire quote, arguably better than Twa...</td>\n",
       "      <td>2011-12-03 08:20:28+00:00</td>\n",
       "      <td>0.450000</td>\n",
       "      <td>Positive</td>\n",
       "    </tr>\n",
       "    <tr>\n",
       "      <th>4</th>\n",
       "      <td>4</td>\n",
       "      <td>That was a total non sequitur btw\\n26\\n14\\n50</td>\n",
       "      <td>2011-12-03 08:22:07+00:00</td>\n",
       "      <td>0.000000</td>\n",
       "      <td>Neutral</td>\n",
       "    </tr>\n",
       "  </tbody>\n",
       "</table>\n",
       "</div>"
      ],
      "text/plain": [
       "   Unnamed: 0                                            MESSAGE  \\\n",
       "0           0  Please ignore prior tweets, as that was someon...   \n",
       "1           1  Went to Iceland on Sat to ride bumper cars on ...   \n",
       "2           2  I made the volume on the Model S http://ow.ly/...   \n",
       "3           3  Great Voltaire quote, arguably better than Twa...   \n",
       "4           4      That was a total non sequitur btw\\n26\\n14\\n50   \n",
       "\n",
       "                        date  sentiment_score sentiment  \n",
       "0  2010-06-04 18:31:57+00:00         0.166667  Positive  \n",
       "1  2011-12-01 09:55:11+00:00         0.600000  Positive  \n",
       "2  2011-12-01 10:29:04+00:00         0.000000   Neutral  \n",
       "3  2011-12-03 08:20:28+00:00         0.450000  Positive  \n",
       "4  2011-12-03 08:22:07+00:00         0.000000   Neutral  "
      ]
     },
     "execution_count": 5,
     "metadata": {},
     "output_type": "execute_result"
    }
   ],
   "source": [
    "# Convert 'MESSAGE' column to string type\n",
    "tweets['MESSAGE'] = tweets['MESSAGE'].astype(str)\n",
    "\n",
    "# Calculate sentiment score\n",
    "tweets['sentiment_score'] = tweets['MESSAGE'].apply(lambda x: TextBlob(x).sentiment.polarity)\n",
    "\n",
    "# Assign sentiment based on sentiment score\n",
    "tweets['sentiment'] = tweets['sentiment_score'].apply(lambda x: 'Positive' if x > 0 else ('Negative' if x < 0 else 'Neutral'))\n",
    "\n",
    "# Display the DataFrame\n",
    "tweets.head()"
   ]
  },
  {
   "cell_type": "code",
   "execution_count": 8,
   "id": "b6acafa4",
   "metadata": {},
   "outputs": [],
   "source": [
    "ax = pd.DataFrame(tweets['sentiment'].value_counts())"
   ]
  },
  {
   "cell_type": "code",
   "execution_count": 12,
   "id": "60eb9651",
   "metadata": {},
   "outputs": [
    {
     "data": {
      "image/png": "[encoded data removed]",
      "text/plain": [
       "<Figure size 432x288 with 1 Axes>"
      ]
     },
     "metadata": {
      "needs_background": "light"
     },
     "output_type": "display_data"
    }
   ],
   "source": [
    "ax.plot.bar()\n",
    "plt.savefig(\"sentiment_plot.png\", dpi = 600, transparent = True, bbox_inches = 'tight')"
   ]
  }
 ],
 "metadata": {
  "kernelspec": {
   "display_name": "Python 3",
   "language": "python",
   "name": "python3"
  },
  "language_info": {
   "codemirror_mode": {
    "name": "ipython",
    "version": 3
   },
   "file_extension": ".py",
   "mimetype": "text/x-python",
   "name": "python",
   "nbconvert_exporter": "python",
   "pygments_lexer": "ipython3",
   "version": "3.8.8"
  }
 },
 "nbformat": 4,
 "nbformat_minor": 5
}
