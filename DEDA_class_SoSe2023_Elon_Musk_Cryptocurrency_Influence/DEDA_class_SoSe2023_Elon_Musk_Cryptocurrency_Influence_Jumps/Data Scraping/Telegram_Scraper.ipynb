{
 "cells": [
  {
   "cell_type": "code",
   "execution_count": null,
   "id": "fb857cf4-598d-4f5d-930d-8539b0318248",
   "metadata": {},
   "outputs": [],
   "source": [
    "! pip install telethon"
   ]
  },
  {
   "cell_type": "code",
   "execution_count": null,
   "id": "4f2b2eda-e29f-4216-8de7-5db0311751a2",
   "metadata": {},
   "outputs": [],
   "source": [
    "import pandas as pd\n",
    "from telethon.sync import TelegramClient"
   ]
  },
  {
   "cell_type": "code",
   "execution_count": null,
   "id": "dc5f4dfe-a54a-4b78-b5b2-7dd57e60dc88",
   "metadata": {},
   "outputs": [],
   "source": [
    "name = 'anon' \n",
    "api_id = input()\n",
    "api_hash = input() \n",
    "chat = 't.me/elonmusktwitter'\n",
    "\n",
    "data = [] # stores all our data \n",
    "\n",
    "async with TelegramClient(name, api_id, api_hash) as client:\n",
    "    async for message in client.iter_messages(chat):\n",
    "        data.append([message.sender_id, message.text, message.date])\n",
    "\n",
    "\n",
    "df = pd.DataFrame(data, columns=['SENDER', 'MESSAGE', 'DATE']) # creates a new dataframe"
   ]
  },
  {
   "cell_type": "code",
   "execution_count": null,
   "id": "cd1e7d37-e1ae-4d5c-80a9-bd77e01c35cf",
   "metadata": {},
   "outputs": [],
   "source": [
    "df.head()"
   ]
  },
  {
   "cell_type": "code",
   "execution_count": null,
   "id": "e67fb740-e9e0-477f-ada0-a03bad67054b",
   "metadata": {},
   "outputs": [],
   "source": [
    "new_tweets = df\n"
   ]
  },
  {
   "cell_type": "code",
   "execution_count": null,
   "id": "3083430a-32e8-461e-9eb9-98dcc6e1fc66",
   "metadata": {},
   "outputs": [],
   "source": [
    "oldtweets = pd.read_csv(\"oldtweets.csv\")\n",
    "timetextold = oldtweets[['text', 'Timestamp']]\n",
    "timetextnew = new_tweets[['MESSAGE', \"DATE\"]]\n",
    "timetextold = timetextold.rename(columns={'text': 'MESSAGE', 'Timestamp': 'DATE'})\n",
    "newdf= pd.concat([ timetextnew, timetextold])\n",
    "newdf.shape"
   ]
  },
  {
   "cell_type": "code",
   "execution_count": null,
   "id": "9b463fba-2320-4532-85d1-eb3a158aaa89",
   "metadata": {},
   "outputs": [],
   "source": [
    "newdf = newdf.rename(columns={'DATE': 'date'})\n",
    "newdf['date'] = pd.to_datetime(newdf['date'], utc = True)\n",
    "newdf = newdf.sort_values(by = ['date'], ascending = True)\n",
    "newdf = newdf.drop_duplicates(subset = ['date'])"
   ]
  },
  {
   "cell_type": "code",
   "execution_count": null,
   "id": "1992427e-6ecf-4e5b-b59c-ec59588bb2ee",
   "metadata": {},
   "outputs": [],
   "source": [
    "newdf.to_csv(\"musktweets.csv\")"
   ]
  }
 ],
 "metadata": {
  "kernelspec": {
   "display_name": "Python 3",
   "language": "python",
   "name": "python3"
  },
  "language_info": {
   "codemirror_mode": {
    "name": "ipython",
    "version": 3
   },
   "file_extension": ".py",
   "mimetype": "text/x-python",
   "name": "python",
   "nbconvert_exporter": "python",
   "pygments_lexer": "ipython3",
   "version": "3.8.8"
  }
 },
 "nbformat": 4,
 "nbformat_minor": 5
}
